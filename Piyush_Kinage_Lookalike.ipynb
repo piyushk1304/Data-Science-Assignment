{
 "cells": [
  {
   "cell_type": "code",
   "execution_count": 2,
   "id": "6db8a054-9c03-46d4-82bf-76d12041e698",
   "metadata": {},
   "outputs": [],
   "source": [
    "import pandas as pd\n",
    "from sklearn.preprocessing import StandardScaler\n",
    "from sklearn.metrics.pairwise import cosine_similarity"
   ]
  },
  {
   "cell_type": "markdown",
   "id": "15e69207-f419-46ed-b659-99b19edaec45",
   "metadata": {},
   "source": [
    "# **Step 1: Data Preparation**"
   ]
  },
  {
   "cell_type": "code",
   "execution_count": 3,
   "id": "f4df77e7-0be9-4a88-b4f4-481a3125bc7d",
   "metadata": {},
   "outputs": [],
   "source": [
    "# Load the datasets\n",
    "customers = pd.read_csv('Customers.csv')\n",
    "products = pd.read_csv('Products.csv')\n",
    "transactions = pd.read_csv('Transactions.csv')"
   ]
  },
  {
   "cell_type": "code",
   "execution_count": 4,
   "id": "8cf74bee-86fd-4c21-897e-a0f1d4e4f8be",
   "metadata": {},
   "outputs": [],
   "source": [
    "# Convert date columns to datetime format\n",
    "customers['SignupDate'] = pd.to_datetime(customers['SignupDate'])\n",
    "transactions['TransactionDate'] = pd.to_datetime(transactions['TransactionDate'])"
   ]
  },
  {
   "cell_type": "code",
   "execution_count": 5,
   "id": "e81c1489-4588-4b28-969e-3fb29361012b",
   "metadata": {},
   "outputs": [],
   "source": [
    "# Merge datasets to create a comprehensive view\n",
    "merged_data = transactions.merge(customers, on='CustomerID').merge(products, on='ProductID')"
   ]
  },
  {
   "cell_type": "code",
   "execution_count": 6,
   "id": "8c133bc6-4d2e-429c-91be-29d7fb257dc7",
   "metadata": {},
   "outputs": [
    {
     "name": "stdout",
     "output_type": "stream",
     "text": [
      "  TransactionID CustomerID ProductID     TransactionDate  Quantity  \\\n",
      "0        T00001      C0199      P067 2024-08-25 12:38:23         1   \n",
      "1        T00112      C0146      P067 2024-05-27 22:23:54         1   \n",
      "2        T00166      C0127      P067 2024-04-25 07:38:55         1   \n",
      "3        T00272      C0087      P067 2024-03-26 22:55:37         2   \n",
      "4        T00363      C0070      P067 2024-03-21 15:10:10         3   \n",
      "\n",
      "   TotalValue  Price_x     CustomerName         Region SignupDate  \\\n",
      "0      300.68   300.68   Andrea Jenkins         Europe 2022-12-03   \n",
      "1      300.68   300.68  Brittany Harvey           Asia 2024-09-04   \n",
      "2      300.68   300.68  Kathryn Stevens         Europe 2024-04-04   \n",
      "3      601.36   300.68  Travis Campbell  South America 2024-04-11   \n",
      "4      902.04   300.68    Timothy Perez         Europe 2022-03-15   \n",
      "\n",
      "                       ProductName     Category  Price_y  \n",
      "0  ComfortLiving Bluetooth Speaker  Electronics   300.68  \n",
      "1  ComfortLiving Bluetooth Speaker  Electronics   300.68  \n",
      "2  ComfortLiving Bluetooth Speaker  Electronics   300.68  \n",
      "3  ComfortLiving Bluetooth Speaker  Electronics   300.68  \n",
      "4  ComfortLiving Bluetooth Speaker  Electronics   300.68  \n"
     ]
    }
   ],
   "source": [
    "# Display the first few rows of the merged dataset\n",
    "print(merged_data.head())"
   ]
  },
  {
   "cell_type": "markdown",
   "id": "05e2520f-1f1e-4290-92c5-59dd6950628f",
   "metadata": {},
   "source": [
    "\n",
    "# **Step 2: Feature Engineering**\n",
    "## We will create features that represent customer profiles and their transaction history. This can include:\n",
    "### 1. Total number of transactions\n",
    "### 2. Total spending\n",
    "### 3. Average transaction value\n",
    "### 4. Most purchased product category\n",
    "### 5. Recency of last purchase\n",
    "python"
   ]
  },
  {
   "cell_type": "code",
   "execution_count": 7,
   "id": "0b9b6338-fa43-42fe-9722-d1ae4a4d00fa",
   "metadata": {},
   "outputs": [],
   "source": [
    "# Feature engineering\n",
    "customer_features = merged_data.groupby('CustomerID').agg({\n",
    "    'TransactionID': 'count',  # Total transactions\n",
    "    'TotalValue': 'sum',       # Total spending\n",
    "    'TransactionDate': 'max'   # Last purchase date\n",
    "}).rename(columns={'TransactionID': 'TotalTransactions', 'TotalValue': 'TotalSpending'})"
   ]
  },
  {
   "cell_type": "code",
   "execution_count": 8,
   "id": "23878c08-4521-4294-9e80-afd4aacc3ba5",
   "metadata": {},
   "outputs": [],
   "source": [
    "# Convert TransactionDate to datetime (if not already done)\n",
    "customer_features['TransactionDate'] = pd.to_datetime(customer_features['TransactionDate'])"
   ]
  },
  {
   "cell_type": "code",
   "execution_count": 9,
   "id": "31e9d7a6-ed3a-4a73-a520-74f89eb52c98",
   "metadata": {},
   "outputs": [],
   "source": [
    "# Calculate average transaction value\n",
    "customer_features['AverageTransactionValue'] = customer_features['TotalSpending'] / customer_features['TotalTransactions']"
   ]
  },
  {
   "cell_type": "code",
   "execution_count": 10,
   "id": "93401ab0-fb65-47f4-a4b4-8a53c7a7bdc0",
   "metadata": {},
   "outputs": [],
   "source": [
    "# Calculate recency\n",
    "current_date = pd.to_datetime('today')\n",
    "customer_features['Recency'] = (current_date - customer_features['TransactionDate']).dt.days"
   ]
  },
  {
   "cell_type": "code",
   "execution_count": 11,
   "id": "c033f08e-9efb-4219-b35f-ea1d96fd34df",
   "metadata": {},
   "outputs": [],
   "source": [
    "# Merge with customer demographics\n",
    "customer_features = customer_features.merge(customers[['CustomerID', 'Region']], on='CustomerID')"
   ]
  },
  {
   "cell_type": "code",
   "execution_count": 12,
   "id": "17866b72-98a5-497f-b01d-b749a7c69b16",
   "metadata": {},
   "outputs": [
    {
     "name": "stdout",
     "output_type": "stream",
     "text": [
      "  CustomerID  TotalTransactions  TotalSpending     TransactionDate  \\\n",
      "0      C0001                  5        3354.52 2024-11-02 17:04:16   \n",
      "1      C0002                  4        1862.74 2024-12-03 01:41:41   \n",
      "2      C0003                  4        2725.38 2024-08-24 18:54:04   \n",
      "3      C0004                  8        5354.88 2024-12-23 14:13:52   \n",
      "4      C0005                  3        2034.24 2024-11-04 00:30:22   \n",
      "\n",
      "   AverageTransactionValue  Recency         Region  \n",
      "0                  670.904       86  South America  \n",
      "1                  465.685       55           Asia  \n",
      "2                  681.345      156  South America  \n",
      "3                  669.360       35  South America  \n",
      "4                  678.080       84           Asia  \n"
     ]
    }
   ],
   "source": [
    "# Display the features\n",
    "print(customer_features.head())"
   ]
  },
  {
   "cell_type": "markdown",
   "id": "1009ae26-c035-409c-be3f-370142809c69",
   "metadata": {},
   "source": [
    "# **Step 3: Similarity Calculation**"
   ]
  },
  {
   "cell_type": "code",
   "execution_count": 13,
   "id": "1cb92cd3-e681-45de-9664-cebd7be99831",
   "metadata": {},
   "outputs": [],
   "source": [
    "# Select features for similarity calculation\n",
    "features = customer_features[['TotalTransactions', 'TotalSpending', 'AverageTransactionValue', 'Recency']]\n",
    "features_scaled = StandardScaler().fit_transform(features)"
   ]
  },
  {
   "cell_type": "code",
   "execution_count": 14,
   "id": "3d3c10d7-e99e-42cb-9778-58d0dbf97a1a",
   "metadata": {},
   "outputs": [],
   "source": [
    "# Calculate cosine similarity\n",
    "similarity_matrix = cosine_similarity(features_scaled)\n",
    "similarity_df = pd.DataFrame(similarity_matrix, index=customer_features.index, columns=customer_features.index)"
   ]
  },
  {
   "cell_type": "markdown",
   "id": "e72f1813-0797-4b0c-bb63-bd14b09ad475",
   "metadata": {},
   "source": [
    "# **Step 4: Generate Recommendations & Output Results**"
   ]
  },
  {
   "cell_type": "code",
   "execution_count": 15,
   "id": "97c2d329-3b90-431c-bbf8-4ea42cc4548c",
   "metadata": {},
   "outputs": [
    {
     "name": "stdout",
     "output_type": "stream",
     "text": [
      "   CustomerID  LookalikeID  SimilarityScore\n",
      "0           0           55         0.994772\n",
      "1           0          188         0.988805\n",
      "2           0          189         0.986770\n",
      "3           1           30         0.998011\n",
      "4           1           28         0.989579\n"
     ]
    }
   ],
   "source": [
    "# Generate recommendations for the first 20 customers\n",
    "lookalike_recommendations = []\n",
    "\n",
    "for customer_id in customer_features.index[:20]:\n",
    "    # Get similarity scores for the current customer\n",
    "    similar_scores = similarity_df.loc[customer_id].sort_values(ascending=False)\n",
    "    \n",
    "    # Get the top 3 similar customers (excluding the customer itself)\n",
    "    top_similar = similar_scores[similar_scores.index != customer_id].head(3)\n",
    "    \n",
    "    # Store the results in a structured way\n",
    "    for similar_cust_id, score in zip(top_similar.index, top_similar.values):\n",
    "        lookalike_recommendations.append({\n",
    "            'CustomerID': customer_id,\n",
    "            'LookalikeID': similar_cust_id,\n",
    "            'SimilarityScore': score\n",
    "        })\n",
    "\n",
    "# Convert to DataFrame for saving\n",
    "lookalike_df = pd.DataFrame(lookalike_recommendations)\n",
    "\n",
    "# Display the recommendations\n",
    "print(lookalike_df.head())\n",
    "\n",
    "# Save the lookalike recommendations to a CSV file\n",
    "lookalike_df.to_csv('Piyush_Kinage_Lookalike.csv', index=False)"
   ]
  },
  {
   "cell_type": "code",
   "execution_count": null,
   "id": "8718fd3c-5e4e-4d30-89c3-645deac8b916",
   "metadata": {},
   "outputs": [],
   "source": []
  }
 ],
 "metadata": {
  "kernelspec": {
   "display_name": "Python 3 (ipykernel)",
   "language": "python",
   "name": "python3"
  },
  "language_info": {
   "codemirror_mode": {
    "name": "ipython",
    "version": 3
   },
   "file_extension": ".py",
   "mimetype": "text/x-python",
   "name": "python",
   "nbconvert_exporter": "python",
   "pygments_lexer": "ipython3",
   "version": "3.11.7"
  }
 },
 "nbformat": 4,
 "nbformat_minor": 5
}
